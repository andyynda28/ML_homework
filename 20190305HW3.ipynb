{
 "cells": [
  {
   "cell_type": "code",
   "execution_count": 2,
   "metadata": {},
   "outputs": [
    {
     "name": "stdout",
     "output_type": "stream",
     "text": [
      "island 1:    size = 12\n"
     ]
    },
    {
     "data": {
      "image/png": "[encoded data removed]",
      "text/plain": [
       "<Figure size 432x288 with 1 Axes>"
      ]
     },
     "metadata": {
      "needs_background": "light"
     },
     "output_type": "display_data"
    },
    {
     "name": "stdout",
     "output_type": "stream",
     "text": [
      "island 2:    size = 15\n"
     ]
    },
    {
     "data": {
      "image/png": "[encoded data removed]",
      "text/plain": [
       "<Figure size 432x288 with 1 Axes>"
      ]
     },
     "metadata": {
      "needs_background": "light"
     },
     "output_type": "display_data"
    },
    {
     "name": "stdout",
     "output_type": "stream",
     "text": [
      "island 3:    size = 12\n"
     ]
    },
    {
     "data": {
      "image/png": "[encoded data removed]",
      "text/plain": [
       "<Figure size 432x288 with 1 Axes>"
      ]
     },
     "metadata": {
      "needs_background": "light"
     },
     "output_type": "display_data"
    }
   ],
   "source": [
    "# -*- coding: utf-8 -*-\n",
    "\"\"\"\n",
    "Created on Tue Jun  4 02:54:07 2019\n",
    "\n",
    "@author: User\n",
    "\"\"\"\n",
    "\n",
    "import numpy as np\n",
    "import matplotlib.pyplot as plt\n",
    "map = np.array([[0,0,0,0,0,0,0,0,0,0],\n",
    "               [0,1,1,1,1,0,0,0,1,1],\n",
    "               [0,0,1,1,1,0,1,1,1,1],\n",
    "               [0,0,1,1,0,0,1,1,1,1],\n",
    "               [0,1,1,1,0,0,1,1,1,0],\n",
    "               [0,0,0,0,0,0,0,0,1,0],\n",
    "               [0,0,0,1,1,1,0,0,1,0],\n",
    "               [0,0,0,1,1,1,1,0,0,0],\n",
    "               [0,0,0,1,1,1,1,0,0,0],\n",
    "               [0,0,0,0,0,0,1,0,0,0]],dtype=np.int32)\n",
    "\n",
    "def checknum(temp1,num):\n",
    "    x = temp1.shape[0]\n",
    "    y = temp1.shape[1]\n",
    "    numofnums = 0\n",
    "    \n",
    "    for i in range(0,x):\n",
    "        for j in range(0,y):\n",
    "            if temp1[i,j] == num:\n",
    "                numofnums += numofnums\n",
    "                return 1\n",
    "                break\n",
    "    if numofnums == 0:\n",
    "        return 0\n",
    "\n",
    "def island(temp2):\n",
    "    islandnum = 2\n",
    "    while (checknum(temp2,1) == 1):\n",
    "        for i in range(0,temp2.shape[0]):\n",
    "            for j in range(0,temp2.shape[1]):\n",
    "                if temp2[i,j] == 1:\n",
    "                    temp2[i,j] = islandnum\n",
    "                    if i+1 <= 9:\n",
    "                        if temp2[i+1,j] == 1:\n",
    "                            temp2[i+1,j] = -1\n",
    "                    if j+1 <= 9:\n",
    "                        if temp2[i,j+1] == 1:\n",
    "                            temp2[i,j+1] = -1\n",
    "                    if j-1 >= 0:\n",
    "                        if temp2[i,j-1] == 1:\n",
    "                            temp2[i,j-1] = -1\n",
    "                    if i-1 >= 0:\n",
    "                        if temp2[i-1,j] == 1:\n",
    "                            temp2[i-1,j] = -1\n",
    "                    \n",
    "                    while(checknum(temp2,-1) == 1):\n",
    "                        for ii in range(0,temp2.shape[0]):\n",
    "                            for jj in range(0,temp2.shape[1]):\n",
    "                                if temp2[ii,jj] == -1:\n",
    "                                    temp2[ii,jj] = islandnum\n",
    "                                    if ii+1 <= 9:\n",
    "                                        if temp2[ii+1,jj] == 1:\n",
    "                                            temp2[ii+1,jj] = -1\n",
    "                                    if jj+1 <= 9:\n",
    "                                        if temp2[ii,jj+1] == 1:\n",
    "                                            temp2[ii,jj+1] = -1\n",
    "                                    if jj-1 >= 0:\n",
    "                                        if temp2[ii,jj-1] == 1:\n",
    "                                            temp2[ii,jj-1] = -1\n",
    "                                    if ii-1 >= 0:\n",
    "                                        if temp2[ii-1,jj] == 1:\n",
    "                                            temp2[ii-1,jj] = -1\n",
    "                    if checknum(temp2,-1) == 0:\n",
    "                        islandnum = islandnum + 1\n",
    "                        \n",
    "    islandnum = islandnum-2\n",
    "    return islandnum\n",
    "\n",
    "def islandsize(temp3,num2):\n",
    "    islandsize = np.arange(num2)*0\n",
    "    for k in range(2,2+num2):\n",
    "        for i in range(0,temp3.shape[0]):\n",
    "            for j in range(0,temp3.shape[1]):\n",
    "                if temp3[i,j] == k:\n",
    "                    islandsize[k-2] = islandsize[k-2] + 1\n",
    "    \n",
    "    return islandsize\n",
    "\n",
    "def islandgraph(temp4,num3):\n",
    "    for i in range(0,temp4.shape[0]):\n",
    "        for j in range(0,temp4.shape[1]):\n",
    "            if temp4[i,j] == num3:\n",
    "                plt.scatter(j,i,s=500,c='k',marker='s')\n",
    "                plt.axis('off')\n",
    "                plt.axis('scaled')\n",
    "                plt.axis([0,10,10,0])               \n",
    "                      \n",
    "a = island(map)                  \n",
    "b = islandsize(map,a)\n",
    "\n",
    "print('island 1:   ','size =',b[0])\n",
    "g1 = islandgraph(map,2)\n",
    "plt.show(g1)\n",
    "\n",
    "print('island 2:   ','size =',b[1])\n",
    "g2 = islandgraph(map,3)\n",
    "plt.show(g2)\n",
    "\n",
    "print('island 3:   ','size =',b[2])\n",
    "g3 = islandgraph(map,4)\n",
    "plt.show(g3)\n",
    "    "
   ]
  },
  {
   "cell_type": "code",
   "execution_count": null,
   "metadata": {},
   "outputs": [],
   "source": []
  }
 ],
 "metadata": {
  "kernelspec": {
   "display_name": "Python 3",
   "language": "python",
   "name": "python3"
  },
  "language_info": {
   "codemirror_mode": {
    "name": "ipython",
    "version": 3
   },
   "file_extension": ".py",
   "mimetype": "text/x-python",
   "name": "python",
   "nbconvert_exporter": "python",
   "pygments_lexer": "ipython3",
   "version": "3.7.1"
  }
 },
 "nbformat": 4,
 "nbformat_minor": 2
}
