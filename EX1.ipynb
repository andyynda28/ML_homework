{
 "cells": [
  {
   "cell_type": "code",
   "execution_count": 11,
   "metadata": {},
   "outputs": [
    {
     "name": "stdout",
     "output_type": "stream",
     "text": [
      "[1, 8, 5, 2, 7, 3, 4, 0, 9, 6]\n"
     ]
    }
   ],
   "source": [
    "import random as rd\n",
    "A = [0,1,2,3,4,5,6,7,8,9]\n",
    "for i in [0,1,2,3,4,5,6,7,8,9]:\n",
    "    I = 9 - i + 1               #randrang括弧中不可以等於0，故修正\n",
    "    a = rd.randrange(I)         #隨機\n",
    "    b = a - 1                   #\n",
    "    temp = A[(I - 1)]           #換位子\n",
    "    A[(I - 1)] = A[b]           #\n",
    "    A[b] = temp                 # \n",
    "\n",
    "print(A)                        #輸出"
   ]
  },
  {
   "cell_type": "code",
   "execution_count": null,
   "metadata": {},
   "outputs": [],
   "source": []
  }
 ],
 "metadata": {
  "kernelspec": {
   "display_name": "Python 2",
   "language": "python",
   "name": "python2"
  },
  "language_info": {
   "codemirror_mode": {
    "name": "ipython",
    "version": 2
   },
   "file_extension": ".py",
   "mimetype": "text/x-python",
   "name": "python",
   "nbconvert_exporter": "python",
   "pygments_lexer": "ipython2",
   "version": "2.7.15"
  }
 },
 "nbformat": 4,
 "nbformat_minor": 2
}
