{
 "cells": [
  {
   "cell_type": "code",
   "execution_count": 7,
   "metadata": {},
   "outputs": [
    {
     "name": "stdout",
     "output_type": "stream",
     "text": [
      "[1, 2, 6, 0, 5, 3, 4, 9, 7, 8]\n",
      "[1, 9, 7, 6, 5, 3, 0, 4, 8, 2]\n",
      "[3, 4, 6, 8, 9, 1, 5, 0, 7, 2]\n",
      "[4, 0, 6, 2, 7, 3, 1, 5, 9, 8]\n",
      "[7, 0, 1, 6, 9, 8, 4, 2, 3, 5]\n",
      "[9, 8, 1, 6, 7, 3, 4, 0, 2, 5]\n",
      "[8, 7, 0, 2, 3, 6, 1, 4, 5, 9]\n",
      "[7, 5, 8, 9, 0, 2, 1, 6, 4, 3]\n",
      "[8, 7, 1, 2, 6, 0, 4, 5, 9, 3]\n",
      "[4, 3, 1, 7, 8, 5, 9, 0, 6, 2]\n"
     ]
    }
   ],
   "source": [
    "import random as rd\n",
    "j = 1\n",
    "while j <= 10:\n",
    "    A = [0,1,2,3,4,5,6,7,8,9]\n",
    "    for i in [0,1,2,3,4,5,6,7,8,9]:\n",
    "        I = 9 - i + 1\n",
    "        a = rd.randrange(I)\n",
    "        b = a - 1\n",
    "        temp = A[(I - 1)] #9\n",
    "        A[(I - 1)] = A[b]\n",
    "        A[b] = temp\n",
    "\n",
    "    print(A)\n",
    "    j = j + 1\n",
    "\n",
    "\n"
   ]
  },
  {
   "cell_type": "code",
   "execution_count": 11,
   "metadata": {},
   "outputs": [
    {
     "name": "stdout",
     "output_type": "stream",
     "text": [
      "[1, 8, 5, 2, 7, 3, 4, 0, 9, 6]\n"
     ]
    }
   ],
   "source": [
    "import random as rd\n",
    "A = [0,1,2,3,4,5,6,7,8,9]\n",
    "for i in [0,1,2,3,4,5,6,7,8,9]:\n",
    "    I = 9 - i + 1               #randrang括弧中不可以等於0，故修正\n",
    "    a = rd.randrange(I)         #隨機\n",
    "    b = a - 1                   #\n",
    "    temp = A[(I - 1)]           #換位子\n",
    "    A[(I - 1)] = A[b]           #\n",
    "    A[b] = temp                 # \n",
    "\n",
    "print(A)                        #輸出"
   ]
  },
  {
   "cell_type": "code",
   "execution_count": null,
   "metadata": {},
   "outputs": [],
   "source": []
  }
 ],
 "metadata": {
  "kernelspec": {
   "display_name": "Python 2",
   "language": "python",
   "name": "python2"
  },
  "language_info": {
   "codemirror_mode": {
    "name": "ipython",
    "version": 2
   },
   "file_extension": ".py",
   "mimetype": "text/x-python",
   "name": "python",
   "nbconvert_exporter": "python",
   "pygments_lexer": "ipython2",
   "version": "2.7.15"
  }
 },
 "nbformat": 4,
 "nbformat_minor": 2
}
