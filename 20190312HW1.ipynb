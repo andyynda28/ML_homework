{
 "cells": [
  {
   "cell_type": "code",
   "execution_count": 3,
   "metadata": {},
   "outputs": [
    {
     "name": "stdout",
     "output_type": "stream",
     "text": [
      "座標在第 4 卦限\n"
     ]
    }
   ],
   "source": [
    "def Quadrant(x,y,z):\n",
    "    i    =  [abs(x),abs(y),abs(z)]\n",
    "    ii   =  [abs(x),-abs(y),abs(z)]\n",
    "    iii  =  [-abs(x),-abs(y),abs(z)]\n",
    "    iv   =  [-abs(x),abs(y),abs(z)]\n",
    "    v    =  [abs(x),abs(y),-abs(z)]\n",
    "    vi   =  [abs(x),-abs(y),-abs(z)]\n",
    "    vii  =  [-abs(x),-abs(y),-abs(z)]\n",
    "    viii =  [-abs(x),abs(y),-abs(z)]\n",
    "    A = [i,ii,iii,iv,v,vi,vii,viii]\n",
    "    temp = []\n",
    "    for list in A:\n",
    "        temp.append((x+list[0])*(y+list[1])*(z+list[2]))\n",
    "    ans = temp.index((2*x)*(2*y)*(2*z))\n",
    "    final_ans=ans+1\n",
    "    return final_ans\n",
    "\n",
    "print(\"座標在第\",Quadrant(-3,1,3),\"卦限\")"
   ]
  },
  {
   "cell_type": "code",
   "execution_count": null,
   "metadata": {},
   "outputs": [],
   "source": [
    "#Quadrant:\n",
    "\n",
    "#I: + + +\n",
    "\n",
    "#II: + ─ +\n",
    "\n",
    "#III: ─ ─ +\n",
    "\n",
    "#VI: ─ + +\n",
    "\n",
    "#V: + + ─\n",
    "\n",
    "#VI: + ─ ─\n",
    "\n",
    "#VII: ─ ─ ─\n",
    "\n",
    "#VIII: ─ + ─"
   ]
  }
 ],
 "metadata": {
  "kernelspec": {
   "display_name": "Python 3",
   "language": "python",
   "name": "python3"
  },
  "language_info": {
   "codemirror_mode": {
    "name": "ipython",
    "version": 3
   },
   "file_extension": ".py",
   "mimetype": "text/x-python",
   "name": "python",
   "nbconvert_exporter": "python",
   "pygments_lexer": "ipython3",
   "version": "3.7.3"
  }
 },
 "nbformat": 4,
 "nbformat_minor": 2
}
